{
 "cells": [
  {
   "cell_type": "markdown",
   "metadata": {},
   "source": [
    "https://arxiv.org/pdf/1606.01933.pdf"
   ]
  },
  {
   "cell_type": "code",
   "execution_count": 24,
   "metadata": {
    "collapsed": true
   },
   "outputs": [],
   "source": [
    "import pickle\n",
    "import random\n",
    "\n",
    "#import matplotlib\n",
    "import matplotlib.pyplot as plt\n",
    "import seaborn as sns\n",
    "#import h5py\n",
    "#import json\n",
    "import numpy as np\n",
    "import pandas as pd\n",
    "from sklearn.metrics import confusion_matrix\n",
    "from sklearn.model_selection import train_test_split\n",
    "import spacy\n",
    "from tqdm import tqdm\n",
    "#% matplotlib inline\n",
    "\n",
    "random.seed(42)"
   ]
  },
  {
   "cell_type": "code",
   "execution_count": 2,
   "metadata": {},
   "outputs": [
    {
     "name": "stderr",
     "output_type": "stream",
     "text": [
      "Using TensorFlow backend.\n"
     ]
    }
   ],
   "source": [
    "import keras\n",
    "import keras.backend as K\n",
    "from keras.layers import InputSpec, Input, Dense, Flatten, Permute\n",
    "from keras.layers import Lambda, Masking, Activation, Dropout, Embedding, TimeDistributed\n",
    "from keras.layers import Bidirectional, GRU, LSTM\n",
    "from keras.layers.advanced_activations import ELU\n",
    "from keras.layers.merge import Add, Dot, add, concatenate, dot\n",
    "from keras.layers.noise import GaussianNoise\n",
    "from keras.layers.normalization import BatchNormalization\n",
    "from keras.layers.pooling import GlobalAveragePooling1D, GlobalMaxPooling1D\n",
    "from keras.engine.topology import Layer\n",
    "from keras.models import Sequential, Model, model_from_json\n",
    "from keras.regularizers import l2\n",
    "from keras.optimizers import Adam"
   ]
  },
  {
   "cell_type": "markdown",
   "metadata": {},
   "source": [
    "# Custom Spacy pipline"
   ]
  },
  {
   "cell_type": "code",
   "execution_count": 3,
   "metadata": {
    "collapsed": true
   },
   "outputs": [],
   "source": [
    "def get_embeddings(vocab, nr_unk=100):\n",
    "    nr_vector = max(lex.rank for lex in vocab) + 1\n",
    "    vectors = np.zeros((nr_vector+nr_unk+2, vocab.vectors_length), dtype='float32')\n",
    "    \n",
    "    for lex in vocab:\n",
    "        if lex.has_vector:\n",
    "            vectors[lex.rank+1] = lex.vector\n",
    "            #vectors[lex.rank+1] = lex.vector / lex.vector_norm\n",
    "    return vectors"
   ]
  },
  {
   "cell_type": "code",
   "execution_count": 4,
   "metadata": {
    "collapsed": true
   },
   "outputs": [],
   "source": [
    "def get_word_ids(docs, rnn_encode=False, tree_truncate=False, max_length=100, nr_unk=100):\n",
    "    Xs = np.zeros((len(docs), max_length), dtype='int32')\n",
    "    for i, doc in enumerate(docs):\n",
    "        if tree_truncate:\n",
    "            if isinstance(doc, Span):\n",
    "                queue = [doc.root]\n",
    "            else:\n",
    "                queue = [sent.root for sent in doc.sents]\n",
    "        else:\n",
    "            queue = list(doc)\n",
    "        words = []\n",
    "        while len(words) <= max_length and queue:\n",
    "            word = queue.pop(0)\n",
    "            if rnn_encode or (not word.is_punct and not word.is_space):\n",
    "                words.append(word)\n",
    "            if tree_truncate:\n",
    "                queue.extend(list(word.lefts))\n",
    "                queue.extend(list(word.rights))\n",
    "        words.sort()\n",
    "        for j, token in enumerate(words):\n",
    "            if token.has_vector:\n",
    "                Xs[i, j] = token.rank+1\n",
    "            else:\n",
    "                Xs[i, j] = (token.shape % (nr_unk-1))+2\n",
    "            j += 1\n",
    "            if j >= max_length:\n",
    "                break\n",
    "        else:\n",
    "            Xs[i, len(words)] = 1\n",
    "    return Xs"
   ]
  },
  {
   "cell_type": "code",
   "execution_count": 5,
   "metadata": {
    "collapsed": true
   },
   "outputs": [],
   "source": [
    "class QuoraSimilarity(object):\n",
    "    @classmethod\n",
    "    def load(cls, path, nlp, get_features=None, max_length=100):\n",
    "        if get_features is None:\n",
    "            get_features = get_word_ids\n",
    "        with (path / 'config.json').open() as file_:\n",
    "            model = model_from_json(file_.read())\n",
    "        with (path / 'model').open('rb') as file_:\n",
    "            weights = pickle.load(file_)\n",
    "        embeddings = get_embeddings(nlp.vocab)\n",
    "        model.set_weights([embeddings] + weights)\n",
    "        return cls(model, get_features=get_features, max_length=max_length)\n",
    "\n",
    "    def __init__(self, model, get_features=None, max_length=100):\n",
    "        self.model = model\n",
    "        self.get_features = get_features\n",
    "        self.max_length = max_length\n",
    "\n",
    "    def __call__(self, doc):\n",
    "        doc.user_hooks['similarity'] = self.predict\n",
    "        doc.user_span_hooks['similarity'] = self.predict\n",
    "\n",
    "    def predict(self, doc1, doc2):\n",
    "        x1 = self.get_features([doc1], max_length=self.max_length, tree_truncate=False)\n",
    "        x2 = self.get_features([doc2], max_length=self.max_length, tree_truncate=False)\n",
    "        scores = self.model.predict([x1, x2])\n",
    "        return scores[0]"
   ]
  },
  {
   "cell_type": "code",
   "execution_count": 6,
   "metadata": {
    "collapsed": true
   },
   "outputs": [],
   "source": [
    "def create_quora_similarity_pipeline(nlp, max_length=100):\n",
    "    return [\n",
    "        nlp.tagger,\n",
    "        nlp.entity,\n",
    "        nlp.parser,\n",
    "        QuoraSimilarity.load('path here', nlp, max_length)\n",
    "    ]"
   ]
  },
  {
   "cell_type": "markdown",
   "metadata": {},
   "source": [
    "# Keras Model"
   ]
  },
  {
   "cell_type": "code",
   "execution_count": 7,
   "metadata": {
    "collapsed": true
   },
   "outputs": [],
   "source": [
    "def build_model(vectors, shape, settings):\n",
    "    max_length, nr_hidden, nr_class = shape\n",
    "    \n",
    "    # Inputs\n",
    "    ids1 = Input(shape=(max_length,), dtype='int32', name='words1')\n",
    "    ids2 = Input(shape=(max_length,), dtype='int32', name='words2')\n",
    "    \n",
    "    # Embed\n",
    "    embed = Embedding(vectors.shape[0],\n",
    "                      vectors.shape[1],\n",
    "                      input_length=max_length,\n",
    "                      weights=[vectors],\n",
    "                      name='embed',\n",
    "                      trainable=False)\n",
    "    project = TimeDistributed(Dense(nr_hidden,\n",
    "                                    activation=None,\n",
    "                                    use_bias=False,\n",
    "                                    name='project'))\n",
    "    \n",
    "    sent1 = project(embed(ids1))\n",
    "    sent2 = project(embed(ids2))\n",
    "    sent1 = Dropout(settings['dropout'])(sent1)\n",
    "    sent2 = Dropout(settings['dropout'])(sent2)\n",
    "    \n",
    "    # Attend\n",
    "    F_p, F_h = sent1, sent2\n",
    "    for i in range(2):\n",
    "        scoreF = TimeDistributed(Dense(nr_hidden,\n",
    "                                       activation='relu', \n",
    "                                       kernel_initializer='he_normal'))\n",
    "        F_p = Dropout(settings['dropout'])(scoreF(F_p))\n",
    "        F_h = Dropout(settings['dropout'])(scoreF(F_h))\n",
    "    Eph = Dot(axes=(2, 2))([F_p, F_h])\n",
    "    \n",
    "    # Normalize and align\n",
    "    Ep = Activation('softmax', name='Ep')(Eph)\n",
    "    Eh = Permute((2, 1))(Eph)\n",
    "    Eh = Activation('softmax', name='Eh')(Eh)\n",
    "    PremAlign = Dot((2, 1))([Ep, sent2])\n",
    "    HypoAlign = Dot((2, 1))([Eh, sent1])\n",
    "    \n",
    "    # Concat and compare\n",
    "    PremAlign = concatenate([sent1, PremAlign])\n",
    "    HypoAlign = concatenate([sent2, HypoAlign])\n",
    "    for i in range(2):\n",
    "        scoreG = TimeDistributed(Dense(nr_hidden,\n",
    "                                       activation='relu', \n",
    "                                       kernel_initializer='he_normal'))\n",
    "        PremAlign = Dropout(settings['dropout'])(scoreG(PremAlign))\n",
    "        HypoAlign = Dropout(settings['dropout'])(scoreG(HypoAlign))\n",
    "        \n",
    "    avged_p = GlobalAveragePooling1D()(PremAlign)\n",
    "    maxed_p = GlobalMaxPooling1D()(PremAlign)\n",
    "    merged_p = add([avged_p, maxed_p])\n",
    "    result_p = BatchNormalization()(merged_p)\n",
    "    \n",
    "    avged_h = GlobalAveragePooling1D()(HypoAlign)\n",
    "    maxed_h = GlobalMaxPooling1D()(HypoAlign)\n",
    "    merged_h = add([avged_h, maxed_h])\n",
    "    result_h = BatchNormalization()(merged_h)\n",
    "        \n",
    "    # Aggregate\n",
    "    features = concatenate([result_p, result_h])\n",
    "    for i in range(2):\n",
    "        scoreH = Dense(nr_hidden,\n",
    "                       activation='relu', \n",
    "                       kernel_initializer='he_normal')\n",
    "        features = Dropout(settings['dropout'])(scoreH(features))\n",
    "        \n",
    "    scores = Dense(nr_class,\n",
    "                   activation='sigmoid', \n",
    "                   kernel_initializer='zero')(features)\n",
    "    \n",
    "    # Model object\n",
    "    model = Model(inputs=[ids1, ids2], outputs=scores)\n",
    "\n",
    "    model.compile(\n",
    "        optimizer=Adam(lr=settings['lr']),\n",
    "        loss='binary_crossentropy',\n",
    "        #loss='categorical_crossentropy',\n",
    "        metrics=['accuracy'])\n",
    "\n",
    "    return model"
   ]
  },
  {
   "cell_type": "markdown",
   "metadata": {},
   "source": [
    "# Load data"
   ]
  },
  {
   "cell_type": "code",
   "execution_count": 8,
   "metadata": {},
   "outputs": [
    {
     "data": {
      "text/plain": [
       "0    125461\n",
       "1     74472\n",
       "Name: is_duplicate, dtype: int64"
      ]
     },
     "execution_count": 8,
     "metadata": {},
     "output_type": "execute_result"
    }
   ],
   "source": [
    "train_df = pd.read_csv('../data/input/train.csv', index_col='id')\n",
    "\n",
    "train_df['question1'].fillna('', inplace=True)\n",
    "train_df['question2'].fillna('', inplace=True)\n",
    "\n",
    "# filter out question shorter than 10 characters\n",
    "train_df['q1_len'] = train_df['question1'].str.len()\n",
    "train_df['q2_len'] = train_df['question2'].str.len()\n",
    "\n",
    "train_df = train_df.loc[lambda df: (df['q1_len'] > 10) & (df['q2_len'] > 10)]\n",
    "\n",
    "# subset data\n",
    "train_df = train_df.loc[0:199999]\n",
    "\n",
    "train_df['is_duplicate'].value_counts()"
   ]
  },
  {
   "cell_type": "markdown",
   "metadata": {},
   "source": [
    "# Train Model"
   ]
  },
  {
   "cell_type": "code",
   "execution_count": 9,
   "metadata": {
    "scrolled": false
   },
   "outputs": [
    {
     "name": "stdout",
     "output_type": "stream",
     "text": [
      "Build model\n",
      "Get Embeddings\n"
     ]
    }
   ],
   "source": [
    "nlp = spacy.load('en')\n",
    "\n",
    "shape = (30, 200, 1)\n",
    "settings = {\n",
    "    'lr': 0.0001,\n",
    "    'dropout': 0.2\n",
    "}\n",
    "\n",
    "print('Build model')\n",
    "model = build_model(get_embeddings(nlp.vocab), shape, settings)\n",
    "\n",
    "X1_train, X1_val, X2_train, X2_val, y_train, y_val = train_test_split(train_df['question1'].values, \n",
    "                                                                      train_df['question2'].values,\n",
    "                                                                      train_df['is_duplicate'].values, \n",
    "                                                                      test_size=0.2, random_state=42, \n",
    "                                                                      stratify=train_df['is_duplicate'].values)\n",
    "\n",
    "print('Encode training and validation datasets')\n",
    "train_X1 = get_word_ids(list(nlp.pipe(X1_train.tolist(), n_threads=20, batch_size=10000)),\n",
    "                        max_length=30,\n",
    "                        rnn_encode=False,\n",
    "                        tree_truncate=False)\n",
    "\n",
    "train_X2 = get_word_ids(list(nlp.pipe(X2_train.tolist(), n_threads=20, batch_size=10000)),\n",
    "                        max_length=30,\n",
    "                        rnn_encode=False,\n",
    "                        tree_truncate=False)\n",
    "\n",
    "val_X1 = get_word_ids(list(nlp.pipe(X1_val.tolist(), n_threads=20, batch_size=10000)),\n",
    "                        max_length=30,\n",
    "                        rnn_encode=False,\n",
    "                        tree_truncate=False)\n",
    "\n",
    "val_X2 = get_word_ids(list(nlp.pipe(X2_val.tolist(), n_threads=20, batch_size=10000)),\n",
    "                        max_length=30,\n",
    "                        rnn_encode=False,\n",
    "                        tree_truncate=False)"
   ]
  },
  {
   "cell_type": "code",
   "execution_count": 10,
   "metadata": {
    "scrolled": true
   },
   "outputs": [
    {
     "name": "stdout",
     "output_type": "stream",
     "text": [
      "____________________________________________________________________________________________________\n",
      "Layer (type)                     Output Shape          Param #     Connected to                     \n",
      "====================================================================================================\n",
      "words1 (InputLayer)              (None, 30)            0                                            \n",
      "____________________________________________________________________________________________________\n",
      "words2 (InputLayer)              (None, 30)            0                                            \n",
      "____________________________________________________________________________________________________\n",
      "embed (Embedding)                (None, 30, 300)       222698100   words1[0][0]                     \n",
      "                                                                   words2[0][0]                     \n",
      "____________________________________________________________________________________________________\n",
      "time_distributed_1 (TimeDistribu (None, 30, 200)       60000       embed[0][0]                      \n",
      "                                                                   embed[1][0]                      \n",
      "____________________________________________________________________________________________________\n",
      "dropout_1 (Dropout)              (None, 30, 200)       0           time_distributed_1[0][0]         \n",
      "____________________________________________________________________________________________________\n",
      "dropout_2 (Dropout)              (None, 30, 200)       0           time_distributed_1[1][0]         \n",
      "____________________________________________________________________________________________________\n",
      "time_distributed_2 (TimeDistribu (None, 30, 200)       40200       dropout_1[0][0]                  \n",
      "                                                                   dropout_2[0][0]                  \n",
      "____________________________________________________________________________________________________\n",
      "dropout_3 (Dropout)              (None, 30, 200)       0           time_distributed_2[0][0]         \n",
      "____________________________________________________________________________________________________\n",
      "dropout_4 (Dropout)              (None, 30, 200)       0           time_distributed_2[1][0]         \n",
      "____________________________________________________________________________________________________\n",
      "time_distributed_3 (TimeDistribu (None, 30, 200)       40200       dropout_3[0][0]                  \n",
      "                                                                   dropout_4[0][0]                  \n",
      "____________________________________________________________________________________________________\n",
      "dropout_5 (Dropout)              (None, 30, 200)       0           time_distributed_3[0][0]         \n",
      "____________________________________________________________________________________________________\n",
      "dropout_6 (Dropout)              (None, 30, 200)       0           time_distributed_3[1][0]         \n",
      "____________________________________________________________________________________________________\n",
      "dot_1 (Dot)                      (None, 30, 30)        0           dropout_5[0][0]                  \n",
      "                                                                   dropout_6[0][0]                  \n",
      "____________________________________________________________________________________________________\n",
      "permute_1 (Permute)              (None, 30, 30)        0           dot_1[0][0]                      \n",
      "____________________________________________________________________________________________________\n",
      "Ep (Activation)                  (None, 30, 30)        0           dot_1[0][0]                      \n",
      "____________________________________________________________________________________________________\n",
      "Eh (Activation)                  (None, 30, 30)        0           permute_1[0][0]                  \n",
      "____________________________________________________________________________________________________\n",
      "dot_2 (Dot)                      (None, 30, 200)       0           Ep[0][0]                         \n",
      "                                                                   dropout_2[0][0]                  \n",
      "____________________________________________________________________________________________________\n",
      "dot_3 (Dot)                      (None, 30, 200)       0           Eh[0][0]                         \n",
      "                                                                   dropout_1[0][0]                  \n",
      "____________________________________________________________________________________________________\n",
      "concatenate_1 (Concatenate)      (None, 30, 400)       0           dropout_1[0][0]                  \n",
      "                                                                   dot_2[0][0]                      \n",
      "____________________________________________________________________________________________________\n",
      "concatenate_2 (Concatenate)      (None, 30, 400)       0           dropout_2[0][0]                  \n",
      "                                                                   dot_3[0][0]                      \n",
      "____________________________________________________________________________________________________\n",
      "time_distributed_4 (TimeDistribu (None, 30, 200)       80200       concatenate_1[0][0]              \n",
      "                                                                   concatenate_2[0][0]              \n",
      "____________________________________________________________________________________________________\n",
      "dropout_7 (Dropout)              (None, 30, 200)       0           time_distributed_4[0][0]         \n",
      "____________________________________________________________________________________________________\n",
      "dropout_8 (Dropout)              (None, 30, 200)       0           time_distributed_4[1][0]         \n",
      "____________________________________________________________________________________________________\n",
      "time_distributed_5 (TimeDistribu (None, 30, 200)       40200       dropout_7[0][0]                  \n",
      "                                                                   dropout_8[0][0]                  \n",
      "____________________________________________________________________________________________________\n",
      "dropout_9 (Dropout)              (None, 30, 200)       0           time_distributed_5[0][0]         \n",
      "____________________________________________________________________________________________________\n",
      "dropout_10 (Dropout)             (None, 30, 200)       0           time_distributed_5[1][0]         \n",
      "____________________________________________________________________________________________________\n",
      "global_average_pooling1d_1 (Glob (None, 200)           0           dropout_9[0][0]                  \n",
      "____________________________________________________________________________________________________\n",
      "global_max_pooling1d_1 (GlobalMa (None, 200)           0           dropout_9[0][0]                  \n",
      "____________________________________________________________________________________________________\n",
      "global_average_pooling1d_2 (Glob (None, 200)           0           dropout_10[0][0]                 \n",
      "____________________________________________________________________________________________________\n",
      "global_max_pooling1d_2 (GlobalMa (None, 200)           0           dropout_10[0][0]                 \n",
      "____________________________________________________________________________________________________\n",
      "add_1 (Add)                      (None, 200)           0           global_average_pooling1d_1[0][0] \n",
      "                                                                   global_max_pooling1d_1[0][0]     \n",
      "____________________________________________________________________________________________________\n",
      "add_2 (Add)                      (None, 200)           0           global_average_pooling1d_2[0][0] \n",
      "                                                                   global_max_pooling1d_2[0][0]     \n",
      "____________________________________________________________________________________________________\n",
      "batch_normalization_1 (BatchNorm (None, 200)           800         add_1[0][0]                      \n"
     ]
    },
    {
     "name": "stdout",
     "output_type": "stream",
     "text": [
      "____________________________________________________________________________________________________\n",
      "batch_normalization_2 (BatchNorm (None, 200)           800         add_2[0][0]                      \n",
      "____________________________________________________________________________________________________\n",
      "concatenate_3 (Concatenate)      (None, 400)           0           batch_normalization_1[0][0]      \n",
      "                                                                   batch_normalization_2[0][0]      \n",
      "____________________________________________________________________________________________________\n",
      "dense_5 (Dense)                  (None, 200)           80200       concatenate_3[0][0]              \n",
      "____________________________________________________________________________________________________\n",
      "dropout_11 (Dropout)             (None, 200)           0           dense_5[0][0]                    \n",
      "____________________________________________________________________________________________________\n",
      "dense_6 (Dense)                  (None, 200)           40200       dropout_11[0][0]                 \n",
      "____________________________________________________________________________________________________\n",
      "dropout_12 (Dropout)             (None, 200)           0           dense_6[0][0]                    \n",
      "____________________________________________________________________________________________________\n",
      "dense_7 (Dense)                  (None, 1)             201         dropout_12[0][0]                 \n",
      "====================================================================================================\n",
      "Total params: 223,081,101\n",
      "Trainable params: 382,201\n",
      "Non-trainable params: 222,698,900\n",
      "____________________________________________________________________________________________________\n"
     ]
    }
   ],
   "source": [
    "model.summary()"
   ]
  },
  {
   "cell_type": "code",
   "execution_count": 11,
   "metadata": {
    "scrolled": true
   },
   "outputs": [
    {
     "name": "stdout",
     "output_type": "stream",
     "text": [
      "Train on 159946 samples, validate on 39987 samples\n",
      "INFO:tensorflow:Summary name embed/embeddings:0 is illegal; using embed/embeddings_0 instead.\n",
      "INFO:tensorflow:Summary name time_distributed_1/kernel:0 is illegal; using time_distributed_1/kernel_0 instead.\n",
      "INFO:tensorflow:Summary name time_distributed_2/kernel:0 is illegal; using time_distributed_2/kernel_0 instead.\n",
      "INFO:tensorflow:Summary name time_distributed_2/bias:0 is illegal; using time_distributed_2/bias_0 instead.\n",
      "INFO:tensorflow:Summary name time_distributed_3/kernel:0 is illegal; using time_distributed_3/kernel_0 instead.\n",
      "INFO:tensorflow:Summary name time_distributed_3/bias:0 is illegal; using time_distributed_3/bias_0 instead.\n",
      "INFO:tensorflow:Summary name time_distributed_4/kernel:0 is illegal; using time_distributed_4/kernel_0 instead.\n",
      "INFO:tensorflow:Summary name time_distributed_4/bias:0 is illegal; using time_distributed_4/bias_0 instead.\n",
      "INFO:tensorflow:Summary name time_distributed_5/kernel:0 is illegal; using time_distributed_5/kernel_0 instead.\n",
      "INFO:tensorflow:Summary name time_distributed_5/bias:0 is illegal; using time_distributed_5/bias_0 instead.\n",
      "INFO:tensorflow:Summary name batch_normalization_1/gamma:0 is illegal; using batch_normalization_1/gamma_0 instead.\n",
      "INFO:tensorflow:Summary name batch_normalization_1/beta:0 is illegal; using batch_normalization_1/beta_0 instead.\n",
      "INFO:tensorflow:Summary name batch_normalization_1/moving_mean:0 is illegal; using batch_normalization_1/moving_mean_0 instead.\n",
      "INFO:tensorflow:Summary name batch_normalization_1/moving_variance:0 is illegal; using batch_normalization_1/moving_variance_0 instead.\n",
      "INFO:tensorflow:Summary name batch_normalization_2/gamma:0 is illegal; using batch_normalization_2/gamma_0 instead.\n",
      "INFO:tensorflow:Summary name batch_normalization_2/beta:0 is illegal; using batch_normalization_2/beta_0 instead.\n",
      "INFO:tensorflow:Summary name batch_normalization_2/moving_mean:0 is illegal; using batch_normalization_2/moving_mean_0 instead.\n",
      "INFO:tensorflow:Summary name batch_normalization_2/moving_variance:0 is illegal; using batch_normalization_2/moving_variance_0 instead.\n",
      "INFO:tensorflow:Summary name dense_5/kernel:0 is illegal; using dense_5/kernel_0 instead.\n",
      "INFO:tensorflow:Summary name dense_5/bias:0 is illegal; using dense_5/bias_0 instead.\n",
      "INFO:tensorflow:Summary name dense_6/kernel:0 is illegal; using dense_6/kernel_0 instead.\n",
      "INFO:tensorflow:Summary name dense_6/bias:0 is illegal; using dense_6/bias_0 instead.\n",
      "INFO:tensorflow:Summary name dense_7/kernel:0 is illegal; using dense_7/kernel_0 instead.\n",
      "INFO:tensorflow:Summary name dense_7/bias:0 is illegal; using dense_7/bias_0 instead.\n",
      "Epoch 1/100\n",
      "521s - loss: 0.5743 - acc: 0.6875 - val_loss: 0.6040 - val_acc: 0.6742\n",
      "Epoch 2/100\n",
      "522s - loss: 0.5153 - acc: 0.7315 - val_loss: 0.5601 - val_acc: 0.7058\n",
      "Epoch 3/100\n",
      "525s - loss: 0.4921 - acc: 0.7459 - val_loss: 0.5585 - val_acc: 0.7010\n",
      "Epoch 4/100\n",
      "524s - loss: 0.4794 - acc: 0.7546 - val_loss: 0.5391 - val_acc: 0.7162\n",
      "Epoch 5/100\n",
      "524s - loss: 0.4701 - acc: 0.7596 - val_loss: 0.5298 - val_acc: 0.7224\n",
      "Epoch 6/100\n",
      "525s - loss: 0.4618 - acc: 0.7662 - val_loss: 0.5221 - val_acc: 0.7279\n",
      "Epoch 7/100\n",
      "525s - loss: 0.4555 - acc: 0.7706 - val_loss: 0.5129 - val_acc: 0.7330\n",
      "Epoch 8/100\n",
      "528s - loss: 0.4504 - acc: 0.7726 - val_loss: 0.5110 - val_acc: 0.7339\n",
      "Epoch 9/100\n",
      "534s - loss: 0.4455 - acc: 0.7759 - val_loss: 0.4982 - val_acc: 0.7441\n",
      "Epoch 10/100\n",
      "537s - loss: 0.4403 - acc: 0.7800 - val_loss: 0.5007 - val_acc: 0.7444\n",
      "Epoch 11/100\n",
      "530s - loss: 0.4353 - acc: 0.7817 - val_loss: 0.5002 - val_acc: 0.7443\n",
      "Epoch 12/100\n",
      "531s - loss: 0.4322 - acc: 0.7855 - val_loss: 0.4879 - val_acc: 0.7499\n",
      "Epoch 13/100\n",
      "524s - loss: 0.4286 - acc: 0.7872 - val_loss: 0.4891 - val_acc: 0.7501\n",
      "Epoch 14/100\n",
      "524s - loss: 0.4244 - acc: 0.7895 - val_loss: 0.4958 - val_acc: 0.7483\n",
      "Epoch 15/100\n",
      "526s - loss: 0.4215 - acc: 0.7919 - val_loss: 0.4754 - val_acc: 0.7583\n",
      "Epoch 16/100\n",
      "524s - loss: 0.4196 - acc: 0.7928 - val_loss: 0.4812 - val_acc: 0.7569\n",
      "Epoch 17/100\n",
      "526s - loss: 0.4152 - acc: 0.7952 - val_loss: 0.4850 - val_acc: 0.7554\n",
      "Epoch 18/100\n",
      "522s - loss: 0.4128 - acc: 0.7973 - val_loss: 0.4813 - val_acc: 0.7571\n",
      "Epoch 19/100\n",
      "521s - loss: 0.4105 - acc: 0.7974 - val_loss: 0.4802 - val_acc: 0.7576\n",
      "Epoch 20/100\n",
      "534s - loss: 0.4067 - acc: 0.8007 - val_loss: 0.4771 - val_acc: 0.7610\n",
      "Epoch 21/100\n",
      "524s - loss: 0.4034 - acc: 0.8026 - val_loss: 0.4801 - val_acc: 0.7597\n",
      "Epoch 00020: early stopping\n"
     ]
    },
    {
     "data": {
      "text/plain": [
       "<keras.callbacks.History at 0xe7e89c37f0>"
      ]
     },
     "execution_count": 11,
     "metadata": {},
     "output_type": "execute_result"
    }
   ],
   "source": [
    "callbacks = [\n",
    "    keras.callbacks.EarlyStopping(monitor='val_loss', min_delta=0.00001, patience=10, verbose=1),\n",
    "    keras.callbacks.CSVLogger(filename='..\\logs\\checkpoints\\model_log.csv'),\n",
    "    keras.callbacks.ModelCheckpoint('..\\models\\checkpoints\\weights.{epoch:03d}-{val_loss:0.4f}.hdf5',\n",
    "                                    save_best_only=True,\n",
    "                                    save_weights_only=True,\n",
    "                                    period=10),\n",
    "    keras.callbacks.TensorBoard(log_dir='..\\logs\\\\tensorboard',\n",
    "                                histogram_freq=1)\n",
    "]\n",
    "\n",
    "# Train model\n",
    "model.fit([train_X1, train_X2],\n",
    "          y_train,\n",
    "          validation_data=([val_X1, val_X2], y_val),\n",
    "          epochs=100,\n",
    "          batch_size=64, \n",
    "          verbose=2,\n",
    "          callbacks=callbacks)"
   ]
  },
  {
   "cell_type": "markdown",
   "metadata": {},
   "source": [
    "## Save model"
   ]
  },
  {
   "cell_type": "code",
   "execution_count": 12,
   "metadata": {
    "collapsed": true,
    "scrolled": true
   },
   "outputs": [],
   "source": [
    "model.save('../models/model_decomposable_attention.hdf5')"
   ]
  },
  {
   "cell_type": "code",
   "execution_count": 11,
   "metadata": {
    "collapsed": true
   },
   "outputs": [],
   "source": [
    "model = keras.models.load_model('../models/model_decomposable_attention.hdf5')"
   ]
  },
  {
   "cell_type": "markdown",
   "metadata": {},
   "source": [
    "# Predicitons"
   ]
  },
  {
   "cell_type": "code",
   "execution_count": 34,
   "metadata": {},
   "outputs": [
    {
     "data": {
      "text/plain": [
       "array([[71475, 28894],\n",
       "       [ 5529, 54048]])"
      ]
     },
     "execution_count": 34,
     "metadata": {},
     "output_type": "execute_result"
    }
   ],
   "source": [
    "train_pred = model.predict([train_X1, train_X2])\n",
    "train_pred = [1 if i > 0.5 else 0 for i in train_pred.ravel().tolist()]\n",
    "confusion_matrix(y_train.tolist(), train_pred)"
   ]
  },
  {
   "cell_type": "code",
   "execution_count": 33,
   "metadata": {},
   "outputs": [
    {
     "data": {
      "text/plain": [
       "array([[17265,  7827],\n",
       "       [ 1783, 13112]])"
      ]
     },
     "execution_count": 33,
     "metadata": {},
     "output_type": "execute_result"
    }
   ],
   "source": [
    "val_pred = model.predict([val_X1, val_X2])\n",
    "val_pred = [1 if i > 0.5 else 0 for i in val_pred.ravel().tolist()]\n",
    "confusion_matrix(y_val.tolist(), val_pred)"
   ]
  },
  {
   "cell_type": "markdown",
   "metadata": {
    "collapsed": true
   },
   "source": [
    "# Custom Tests"
   ]
  },
  {
   "cell_type": "code",
   "execution_count": 9,
   "metadata": {
    "collapsed": true
   },
   "outputs": [],
   "source": [
    "nlp = spacy.load('en')"
   ]
  },
  {
   "cell_type": "code",
   "execution_count": 11,
   "metadata": {
    "collapsed": true
   },
   "outputs": [],
   "source": [
    "model = keras.models.load_model('../models/model_decomposable_attention.hdf5')"
   ]
  },
  {
   "cell_type": "code",
   "execution_count": 10,
   "metadata": {
    "collapsed": true
   },
   "outputs": [],
   "source": [
    "attention_layer_model = Model(inputs=model.input,\n",
    "                              outputs=[model.get_layer('Ep').get_output_at(0),\n",
    "                                       model.get_layer('Eh').get_output_at(0)])"
   ]
  },
  {
   "cell_type": "code",
   "execution_count": 11,
   "metadata": {},
   "outputs": [],
   "source": [
    "def test_entailment(sentence1, sentence2):\n",
    "    sent1 = nlp(sentence1)\n",
    "    sentence1 = get_word_ids(list([sent1]), \n",
    "                             max_length=30,\n",
    "                             rnn_encode=False,\n",
    "                             tree_truncate=False)\n",
    "    \n",
    "    sent2 = nlp(sentence2)\n",
    "    sentence2 = get_word_ids(list([sent2]), \n",
    "                             max_length=30,\n",
    "                             rnn_encode=False,\n",
    "                             tree_truncate=False)\n",
    "\n",
    "    prediction = model.predict([sentence1, sentence2])\n",
    "    attention_output = attention_layer_model.predict([sentence1, sentence2])\n",
    "    \n",
    "    return prediction[0][0], attention_output, [sent1, sent2]"
   ]
  },
  {
   "cell_type": "code",
   "execution_count": 15,
   "metadata": {},
   "outputs": [
    {
     "name": "stdout",
     "output_type": "stream",
     "text": [
      "0.835688\n"
     ]
    }
   ],
   "source": [
    "#sentence1 = 'What are some ways to find the voltage across a resistor?'\n",
    "#sentence2 = 'How can I get voltage drop across a resistor? And how can I calculate it?'\n",
    "#sentence1 = 'How can I play football?'\n",
    "#sentence2 = 'How can I cook duck?'\n",
    "#sentence1 = 'How can I learn to play soccer better?'\n",
    "#sentence2 = 'What is the optimal way to improve at soccer?'\n",
    "sentence1 = 'What day of the week comes after Thursday?'\n",
    "sentence2 = 'What day of the week comes before Sunday?'\n",
    "\n",
    "prediction, attention_output, [sent1, sent2] = test_entailment(sentence1, sentence2)\n",
    "print(prediction)"
   ]
  },
  {
   "cell_type": "code",
   "execution_count": 16,
   "metadata": {
    "collapsed": true
   },
   "outputs": [],
   "source": [
    "Ep, Eh = attention_output[0][0], attention_output[1][0] # [P,H] [H,P]\n",
    "Ep = Ep[:len(sent1),:len(sent2)] # [P,H]\n",
    "Eh = Eh[:len(sent2),:len(sent1)] # [H,P]"
   ]
  },
  {
   "cell_type": "code",
   "execution_count": 17,
   "metadata": {},
   "outputs": [
    {
     "data": {
      "image/png": "[encoded data removed]",
      "text/plain": [
       "<matplotlib.figure.Figure at 0xcc8254e4e0>"
      ]
     },
     "execution_count": 17,
     "metadata": {},
     "output_type": "execute_result"
    }
   ],
   "source": [
    "plt.clf()\n",
    "df = pd.DataFrame(np.round(Ep, 2),columns=sent2,index=sent1)\n",
    "\n",
    "ax = sns.heatmap(df, vmax=.85, square=True, cbar=False, annot=True)\n",
    "plt.xticks(rotation=40, fontsize=16), plt.yticks(rotation=360, fontsize=16)\n",
    "fig = ax.get_figure()\n",
    "fig.set_size_inches((12, 12))\n",
    "fig"
   ]
  },
  {
   "cell_type": "code",
   "execution_count": 70,
   "metadata": {},
   "outputs": [
    {
     "data": {
      "image/png": "[encoded data removed]",
      "text/plain": [
       "<matplotlib.figure.Figure at 0xe16891c50>"
      ]
     },
     "execution_count": 70,
     "metadata": {},
     "output_type": "execute_result"
    }
   ],
   "source": [
    "plt.clf()\n",
    "df = pd.DataFrame(np.round(Eh, 2),columns=sent1,index=sent2)\n",
    "\n",
    "ax = sns.heatmap(df, vmax=.85, square=True, cbar=False, annot=True)\n",
    "plt.xticks(rotation=40, fontsize=16), plt.yticks(rotation=360, fontsize=16)\n",
    "fig = ax.get_figure()\n",
    "fig.set_size_inches((12, 12))\n",
    "fig"
   ]
  }
 ],
 "metadata": {
  "kernelspec": {
   "display_name": "Python [conda env:keras]",
   "language": "python",
   "name": "conda-env-keras-py"
  },
  "language_info": {
   "codemirror_mode": {
    "name": "ipython",
    "version": 3
   },
   "file_extension": ".py",
   "mimetype": "text/x-python",
   "name": "python",
   "nbconvert_exporter": "python",
   "pygments_lexer": "ipython3",
   "version": "3.5.3"
  }
 },
 "nbformat": 4,
 "nbformat_minor": 2
}
